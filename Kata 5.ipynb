{
 "cells": [
  {
   "cell_type": "markdown",
   "metadata": {},
   "source": [
    "# Kata modulo 5"
   ]
  },
  {
   "cell_type": "markdown",
   "metadata": {},
   "source": [
    "Ejercicio 1"
   ]
  },
  {
   "cell_type": "code",
   "execution_count": 2,
   "metadata": {},
   "outputs": [],
   "source": [
    "tierra = 149597870\n",
    "jupiter = 778547200"
   ]
  },
  {
   "cell_type": "code",
   "execution_count": 3,
   "metadata": {},
   "outputs": [
    {
     "name": "stdout",
     "output_type": "stream",
     "text": [
      "628949330\n"
     ]
    }
   ],
   "source": [
    "distancia_planetas = jupiter - tierra\n",
    "print(distancia_planetas)"
   ]
  },
  {
   "cell_type": "code",
   "execution_count": 4,
   "metadata": {},
   "outputs": [
    {
     "name": "stdout",
     "output_type": "stream",
     "text": [
      "390577533.93\n"
     ]
    }
   ],
   "source": [
    "millas = distancia_planetas * 0.621\n",
    "print(millas)"
   ]
  },
  {
   "cell_type": "markdown",
   "metadata": {},
   "source": [
    "Ejercicio 2"
   ]
  },
  {
   "cell_type": "code",
   "execution_count": 11,
   "metadata": {},
   "outputs": [],
   "source": [
    "planeta_uno = input(227900000)\n",
    "planeta_dos = input(1433500000)"
   ]
  },
  {
   "cell_type": "code",
   "execution_count": 12,
   "metadata": {},
   "outputs": [],
   "source": [
    "planeta_uno = int(planeta_uno)\n",
    "planeta_dos = int(planeta_dos)"
   ]
  },
  {
   "cell_type": "code",
   "execution_count": 13,
   "metadata": {},
   "outputs": [
    {
     "name": "stdout",
     "output_type": "stream",
     "text": [
      "1205600000\n"
     ]
    }
   ],
   "source": [
    "distancia_km = planeta_uno - planeta_dos\n",
    "print(abs(distancia_km))"
   ]
  },
  {
   "cell_type": "code",
   "execution_count": 14,
   "metadata": {},
   "outputs": [
    {
     "name": "stdout",
     "output_type": "stream",
     "text": [
      "748677600.0\n"
     ]
    }
   ],
   "source": [
    "distancia_mi = distancia_km * 0.621\n",
    "print(abs(distancia_mi))"
   ]
  }
 ],
 "metadata": {
  "interpreter": {
   "hash": "48220cc7eca233757c47c016205bf12bd55261280c552145fb775af00094acbb"
  },
  "kernelspec": {
   "display_name": "Python 3.10.2 64-bit",
   "language": "python",
   "name": "python3"
  },
  "language_info": {
   "codemirror_mode": {
    "name": "ipython",
    "version": 3
   },
   "file_extension": ".py",
   "mimetype": "text/x-python",
   "name": "python",
   "nbconvert_exporter": "python",
   "pygments_lexer": "ipython3",
   "version": "3.10.2"
  },
  "orig_nbformat": 4
 },
 "nbformat": 4,
 "nbformat_minor": 2
}
