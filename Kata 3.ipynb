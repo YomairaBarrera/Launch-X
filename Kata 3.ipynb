{
 "cells": [
  {
   "cell_type": "markdown",
   "metadata": {},
   "source": [
    "# Kata modulo 3"
   ]
  },
  {
   "cell_type": "markdown",
   "metadata": {},
   "source": [
    "Ejercicio 1"
   ]
  },
  {
   "cell_type": "code",
   "execution_count": 4,
   "metadata": {},
   "outputs": [
    {
     "name": "stdout",
     "output_type": "stream",
     "text": [
      "Warning!\n"
     ]
    }
   ],
   "source": [
    "a = 49\n",
    "if a > 25:\n",
    "    print (\"Warning!\")\n",
    "else:\n",
    "    print (\"todo chido!\")"
   ]
  },
  {
   "cell_type": "markdown",
   "metadata": {},
   "source": [
    "Ejercicio 2"
   ]
  },
  {
   "cell_type": "code",
   "execution_count": 6,
   "metadata": {},
   "outputs": [
    {
     "name": "stdout",
     "output_type": "stream",
     "text": [
      "nada de nada\n"
     ]
    }
   ],
   "source": [
    "a = 19\n",
    "if a >= 20:\n",
    "    print (\"rasho estelar!\")\n",
    "else:\n",
    "    print (\"nada de nada\")"
   ]
  },
  {
   "cell_type": "markdown",
   "metadata": {},
   "source": [
    "solucion del ejercicio"
   ]
  },
  {
   "cell_type": "code",
   "execution_count": 7,
   "metadata": {},
   "outputs": [
    {
     "name": "stdout",
     "output_type": "stream",
     "text": [
      "nada de nada\n"
     ]
    }
   ],
   "source": [
    "a = 19\n",
    "if a > 20:\n",
    "    print (\"rasho estelar!\")\n",
    "elif a==20:\n",
    "    print (\"rasho estelar!\")\n",
    "else:\n",
    "    print (\"nada de nada\")"
   ]
  },
  {
   "cell_type": "markdown",
   "metadata": {},
   "source": [
    "Ejercicio 3"
   ]
  },
  {
   "cell_type": "code",
   "execution_count": 8,
   "metadata": {},
   "outputs": [
    {
     "name": "stdout",
     "output_type": "stream",
     "text": [
      "rasho estelar!\n"
     ]
    }
   ],
   "source": [
    "a = 25\n",
    "b = 50\n",
    "if a > 25 and b > 25:\n",
    "    print(\"Vamos a morir!!!!\")\n",
    "elif a >= 20:\n",
    "    print(\"rasho estelar!\")\n",
    "elif b < 25:\n",
    "    print(\"nada de nada\")\n",
    "else:\n",
    "    print(\"nada de nada\")"
   ]
  }
 ],
 "metadata": {
  "interpreter": {
   "hash": "48220cc7eca233757c47c016205bf12bd55261280c552145fb775af00094acbb"
  },
  "kernelspec": {
   "display_name": "Python 3.10.2 64-bit",
   "language": "python",
   "name": "python3"
  },
  "language_info": {
   "codemirror_mode": {
    "name": "ipython",
    "version": 3
   },
   "file_extension": ".py",
   "mimetype": "text/x-python",
   "name": "python",
   "nbconvert_exporter": "python",
   "pygments_lexer": "ipython3",
   "version": "3.10.2"
  },
  "orig_nbformat": 4
 },
 "nbformat": 4,
 "nbformat_minor": 2
}
